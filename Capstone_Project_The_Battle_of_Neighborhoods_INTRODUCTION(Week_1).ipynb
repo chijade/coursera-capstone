{
  "nbformat": 4,
  "nbformat_minor": 0,
  "metadata": {
    "colab": {
      "name": "Capstone Project - The Battle of Neighborhoods_INTRODUCTION(Week 1).ipynb",
      "provenance": [],
      "collapsed_sections": [],
      "authorship_tag": "ABX9TyNLWU7ikHFVrcVJR6rvZppw",
      "include_colab_link": true
    },
    "kernelspec": {
      "name": "python3",
      "display_name": "Python 3"
    }
  },
  "cells": [
    {
      "cell_type": "markdown",
      "metadata": {
        "id": "view-in-github",
        "colab_type": "text"
      },
      "source": [
        "<a href=\"https://colab.research.google.com/github/chijade/coursera-capstone/blob/master/Capstone_Project_The_Battle_of_Neighborhoods_INTRODUCTION(Week_1).ipynb\" target=\"_parent\"><img src=\"https://colab.research.google.com/assets/colab-badge.svg\" alt=\"Open In Colab\"/></a>"
      ]
    },
    {
      "cell_type": "markdown",
      "metadata": {
        "id": "fcVZ-lynmOQF",
        "colab_type": "text"
      },
      "source": [
        "###**Capstone Project - The Battle of Neighborhoods (Week 1)**\n",
        "_Applied Data Science Capstone by IBM/Coursera_\n",
        "\n",
        "---------------------------------------\n",
        "\n",
        "**1. Introduction: COFFEE ETHNIC IN DA NANG**\n",
        "\n",
        "In such a large and rich of coffee culture city like Da Nang in Viet Nam, it will be competitive to start up coffee business. In this case my contractor is a humble Vietnamese man who has contacted me to give advises and draw up **essential lines of business prediction** and **back-up plans**. \n",
        "\n",
        "![alt text](https://hiddenhoian.com/wp-content/uploads/2019/11/cafe-in-da-nang-le-petit-cafe.jpg)\n",
        "\n",
        "**2. Orientation**\n",
        "First of all we need to collect Data of all coffee shops in Da Nang including their name, id, location (address, latitude, longitude) then pick up the \"hot\" neighbor where locates most of the venue. In order to asset Data we use [FourSquare](https://developer.foursquare.com) and apply folium for visualizing a particular neighbor in which that we will observe customer \"traffic\" and predict an appropriate location of new coffee shop in town. In this case you will find its temporary name on the folium map, **\"O Day Roi!\"**(Meaning \"Here It Is!\" in Vietnamese)"
      ]
    },
    {
      "cell_type": "markdown",
      "metadata": {
        "id": "I_FsI_hlmNXA",
        "colab_type": "text"
      },
      "source": [
        ""
      ]
    }
  ]
}