{
  "nbformat": 4,
  "nbformat_minor": 0,
  "metadata": {
    "colab": {
      "name": "Capstone Project - The Battle of Neighborhoods_Solution(Week 1).ipynb",
      "provenance": [],
      "collapsed_sections": [],
      "authorship_tag": "ABX9TyOGtZRbKXVGzj7cbDPh5M1R",
      "include_colab_link": true
    },
    "kernelspec": {
      "name": "python3",
      "display_name": "Python 3"
    }
  },
  "cells": [
    {
      "cell_type": "markdown",
      "metadata": {
        "id": "view-in-github",
        "colab_type": "text"
      },
      "source": [
        "<a href=\"https://colab.research.google.com/github/chijade/coursera-capstone/blob/master/Capstone_Project_The_Battle_of_Neighborhoods_Solution(Week_1).ipynb\" target=\"_parent\"><img src=\"https://colab.research.google.com/assets/colab-badge.svg\" alt=\"Open In Colab\"/></a>"
      ]
    },
    {
      "cell_type": "code",
      "metadata": {
        "id": "87HPbpBr4aCM",
        "colab_type": "code",
        "colab": {
          "base_uri": "https://localhost:8080/",
          "height": 204
        },
        "outputId": "ea4bf094-1817-446e-81f6-2733a5b1b0ae"
      },
      "source": [
        "import requests # library to handle requests\n",
        "import pandas as pd # library for data analsysis\n",
        "import numpy as np\n",
        "!pip install folium\n",
        "import folium "
      ],
      "execution_count": 27,
      "outputs": [
        {
          "output_type": "stream",
          "text": [
            "Requirement already satisfied: folium in /usr/local/lib/python3.6/dist-packages (0.8.3)\n",
            "Requirement already satisfied: jinja2 in /usr/local/lib/python3.6/dist-packages (from folium) (2.11.2)\n",
            "Requirement already satisfied: requests in /usr/local/lib/python3.6/dist-packages (from folium) (2.23.0)\n",
            "Requirement already satisfied: six in /usr/local/lib/python3.6/dist-packages (from folium) (1.12.0)\n",
            "Requirement already satisfied: numpy in /usr/local/lib/python3.6/dist-packages (from folium) (1.18.4)\n",
            "Requirement already satisfied: branca>=0.3.0 in /usr/local/lib/python3.6/dist-packages (from folium) (0.4.1)\n",
            "Requirement already satisfied: MarkupSafe>=0.23 in /usr/local/lib/python3.6/dist-packages (from jinja2->folium) (1.1.1)\n",
            "Requirement already satisfied: urllib3!=1.25.0,!=1.25.1,<1.26,>=1.21.1 in /usr/local/lib/python3.6/dist-packages (from requests->folium) (1.24.3)\n",
            "Requirement already satisfied: idna<3,>=2.5 in /usr/local/lib/python3.6/dist-packages (from requests->folium) (2.9)\n",
            "Requirement already satisfied: chardet<4,>=3.0.2 in /usr/local/lib/python3.6/dist-packages (from requests->folium) (3.0.4)\n",
            "Requirement already satisfied: certifi>=2017.4.17 in /usr/local/lib/python3.6/dist-packages (from requests->folium) (2020.4.5.1)\n"
          ],
          "name": "stdout"
        }
      ]
    },
    {
      "cell_type": "code",
      "metadata": {
        "id": "CtarW0zy4bdK",
        "colab_type": "code",
        "colab": {
          "base_uri": "https://localhost:8080/",
          "height": 68
        },
        "outputId": "64bcaece-444e-4b13-f051-73e38cf36c93"
      },
      "source": [
        "CLIENT_ID = 'UDDGPQBBCX3LMW4X4WBTU5BPYTVPOLEEE33X1YLBD2MGY4SI' # your Foursquare ID\n",
        "CLIENT_SECRET = 'WQC2VJAXOWMYPOACCTEYZUT2K0YNBPYPJMY5IYAGXXJXAVCW' # your Foursquare Secret\n",
        "VERSION = '20180604'\n",
        "LIMIT = 40\n",
        "print('Your credentails:')\n",
        "print('CLIENT_ID: ' + CLIENT_ID)\n",
        "print('CLIENT_SECRET:' + CLIENT_SECRET)"
      ],
      "execution_count": 37,
      "outputs": [
        {
          "output_type": "stream",
          "text": [
            "Your credentails:\n",
            "CLIENT_ID: UDDGPQBBCX3LMW4X4WBTU5BPYTVPOLEEE33X1YLBD2MGY4SI\n",
            "CLIENT_SECRET:WQC2VJAXOWMYPOACCTEYZUT2K0YNBPYPJMY5IYAGXXJXAVCW\n"
          ],
          "name": "stdout"
        }
      ]
    },
    {
      "cell_type": "code",
      "metadata": {
        "id": "Nr4VTHsA5SYa",
        "colab_type": "code",
        "colab": {}
      },
      "source": [
        "import requests\n",
        "\n",
        "request_parameters = {\n",
        "    \"client_id\": CLIENT_ID,\n",
        "    \"client_secret\": CLIENT_SECRET,\n",
        "    \"v\": '20180605',\n",
        "    \"section\": \"coffee\",\n",
        "    \"near\": \"Da Nang\",\n",
        "    \"radius\": 1000,\n",
        "    \"limit\": 50}\n",
        "\n",
        "data = requests.get(\"https://api.foursquare.com/v2/venues/explore\", params=request_parameters)"
      ],
      "execution_count": 0,
      "outputs": []
    },
    {
      "cell_type": "code",
      "metadata": {
        "id": "-ATXD2ArE8dU",
        "colab_type": "code",
        "colab": {
          "base_uri": "https://localhost:8080/",
          "height": 34
        },
        "outputId": "77f6f8b1-04c0-4b17-dc44-3e060c0a2c31"
      },
      "source": [
        "print(data)"
      ],
      "execution_count": 40,
      "outputs": [
        {
          "output_type": "stream",
          "text": [
            "<Response [200]>\n"
          ],
          "name": "stdout"
        }
      ]
    },
    {
      "cell_type": "code",
      "metadata": {
        "id": "gMmDUkPJ9_Dn",
        "colab_type": "code",
        "colab": {
          "base_uri": "https://localhost:8080/",
          "height": 34
        },
        "outputId": "cdf9f92c-28cf-4d4d-eb30-df0dfb892ffa"
      },
      "source": [
        "#let's try to see how our data source is going\n",
        "search_query = 'coffeeshop'\n",
        "radius = 500\n",
        "print(search_query + ' .... OK!')"
      ],
      "execution_count": 30,
      "outputs": [
        {
          "output_type": "stream",
          "text": [
            "coffeeshop .... OK!\n"
          ],
          "name": "stdout"
        }
      ]
    },
    {
      "cell_type": "code",
      "metadata": {
        "id": "m0n04Zqq-NEg",
        "colab_type": "code",
        "colab": {
          "base_uri": "https://localhost:8080/",
          "height": 54
        },
        "outputId": "445cf9d5-10ed-4d6f-daaa-0afc463284a1"
      },
      "source": [
        "d = data.json()[\"response\"]\n",
        "d.keys()"
      ],
      "execution_count": 44,
      "outputs": [
        {
          "output_type": "execute_result",
          "data": {
            "text/plain": [
              "dict_keys(['suggestedFilters', 'geocode', 'headerLocation', 'headerFullLocation', 'headerLocationGranularity', 'query', 'totalResults', 'suggestedBounds', 'groups'])"
            ]
          },
          "metadata": {
            "tags": []
          },
          "execution_count": 44
        }
      ]
    },
    {
      "cell_type": "code",
      "metadata": {
        "id": "vY_CzYSX-Yu5",
        "colab_type": "code",
        "colab": {
          "base_uri": "https://localhost:8080/",
          "height": 34
        },
        "outputId": "b401c272-b33f-407e-de5b-fa9543348ef1"
      },
      "source": [
        "d[\"headerLocationGranularity\"], d[\"headerLocation\"], d[\"headerFullLocation\"]"
      ],
      "execution_count": 45,
      "outputs": [
        {
          "output_type": "execute_result",
          "data": {
            "text/plain": [
              "('city', 'Da Nang', 'Da Nang')"
            ]
          },
          "metadata": {
            "tags": []
          },
          "execution_count": 45
        }
      ]
    },
    {
      "cell_type": "code",
      "metadata": {
        "id": "QNd676EIG7Vr",
        "colab_type": "code",
        "colab": {
          "base_uri": "https://localhost:8080/",
          "height": 68
        },
        "outputId": "b963a582-d856-45bd-fada-37016efa26eb"
      },
      "source": [
        "d[\"suggestedBounds\"], d[\"totalResults\"]"
      ],
      "execution_count": 46,
      "outputs": [
        {
          "output_type": "execute_result",
          "data": {
            "text/plain": [
              "({'ne': {'lat': 16.076950003892705, 'lng': 108.22982675100442},\n",
              "  'sw': {'lat': 16.059727142671775, 'lng': 108.21333222890732}},\n",
              " 41)"
            ]
          },
          "metadata": {
            "tags": []
          },
          "execution_count": 46
        }
      ]
    },
    {
      "cell_type": "code",
      "metadata": {
        "id": "PPictmsPG8Fy",
        "colab_type": "code",
        "colab": {
          "base_uri": "https://localhost:8080/",
          "height": 170
        },
        "outputId": "d486731f-4b99-4034-d530-c0410920a892"
      },
      "source": [
        "d[\"geocode\"]"
      ],
      "execution_count": 47,
      "outputs": [
        {
          "output_type": "execute_result",
          "data": {
            "text/plain": [
              "{'cc': 'VN',\n",
              " 'center': {'lat': 16.06778, 'lng': 108.22083},\n",
              " 'displayString': 'Da Nang, Thành Phố Đà Nẵng, Vietnam',\n",
              " 'geometry': {'bounds': {'ne': {'lat': 16.11072, 'lng': 108.276871},\n",
              "   'sw': {'lat': 15.982205, 'lng': 108.141861}}},\n",
              " 'longId': '72057594039511928',\n",
              " 'slug': 'turan-vietnam',\n",
              " 'what': '',\n",
              " 'where': 'da nang'}"
            ]
          },
          "metadata": {
            "tags": []
          },
          "execution_count": 47
        }
      ]
    },
    {
      "cell_type": "code",
      "metadata": {
        "id": "CbgsvLaWHBDL",
        "colab_type": "code",
        "colab": {
          "base_uri": "https://localhost:8080/",
          "height": 34
        },
        "outputId": "6fa3957b-901d-4cc3-d2ab-416992ae4243"
      },
      "source": [
        "d[\"groups\"][0].keys()"
      ],
      "execution_count": 48,
      "outputs": [
        {
          "output_type": "execute_result",
          "data": {
            "text/plain": [
              "dict_keys(['type', 'name', 'items'])"
            ]
          },
          "metadata": {
            "tags": []
          },
          "execution_count": 48
        }
      ]
    },
    {
      "cell_type": "code",
      "metadata": {
        "id": "SIlTcTXvHdYi",
        "colab_type": "code",
        "colab": {
          "base_uri": "https://localhost:8080/",
          "height": 34
        },
        "outputId": "77ccabe1-d5d3-4c08-b518-c02a364340a2"
      },
      "source": [
        "d[\"groups\"][0][\"type\"], d[\"groups\"][0][\"name\"]"
      ],
      "execution_count": 49,
      "outputs": [
        {
          "output_type": "execute_result",
          "data": {
            "text/plain": [
              "('Recommended Places', 'recommended')"
            ]
          },
          "metadata": {
            "tags": []
          },
          "execution_count": 49
        }
      ]
    },
    {
      "cell_type": "code",
      "metadata": {
        "id": "HsckkDpDHkBG",
        "colab_type": "code",
        "colab": {
          "base_uri": "https://localhost:8080/",
          "height": 561
        },
        "outputId": "2eda27fc-9752-4169-802a-d654d0557aa5"
      },
      "source": [
        "items = d[\"groups\"][0][\"items\"]\n",
        "print(\"number of items: %i\" % len(items))\n",
        "items[0]"
      ],
      "execution_count": 50,
      "outputs": [
        {
          "output_type": "stream",
          "text": [
            "number of items: 41\n"
          ],
          "name": "stdout"
        },
        {
          "output_type": "execute_result",
          "data": {
            "text/plain": [
              "{'reasons': {'count': 0,\n",
              "  'items': [{'reasonName': 'globalInteractionReason',\n",
              "    'summary': 'This spot is popular',\n",
              "    'type': 'general'}]},\n",
              " 'referralId': 'e-5-5a26a41a31ac6c676705e94c-0',\n",
              " 'venue': {'categories': [{'icon': {'prefix': 'https://ss3.4sqi.net/img/categories_v2/food/coffeeshop_',\n",
              "     'suffix': '.png'},\n",
              "    'id': '4bf58dd8d48988d1e0931735',\n",
              "    'name': 'Coffee Shop',\n",
              "    'pluralName': 'Coffee Shops',\n",
              "    'primary': True,\n",
              "    'shortName': 'Coffee Shop'}],\n",
              "  'id': '5a26a41a31ac6c676705e94c',\n",
              "  'location': {'address': '39',\n",
              "   'cc': 'VN',\n",
              "   'city': 'Đà Nẵng',\n",
              "   'country': 'Việt Nam',\n",
              "   'crossStreet': 'Nguyễn Thái Học',\n",
              "   'formattedAddress': ['39 (Nguyễn Thái Học)',\n",
              "    'Đà Nẵng',\n",
              "    'Thành Phố Đà Nẵng',\n",
              "    'Việt Nam'],\n",
              "   'labeledLatLngs': [{'label': 'display',\n",
              "     'lat': 16.068062879455486,\n",
              "     'lng': 108.22351222071603}],\n",
              "   'lat': 16.068062879455486,\n",
              "   'lng': 108.22351222071603,\n",
              "   'postalCode': '551105',\n",
              "   'state': 'Thành Phố Đà Nẵng'},\n",
              "  'name': 'cộng cà phê',\n",
              "  'photos': {'count': 0, 'groups': []}}}"
            ]
          },
          "metadata": {
            "tags": []
          },
          "execution_count": 50
        }
      ]
    },
    {
      "cell_type": "code",
      "metadata": {
        "id": "hZp2W4vGHk7a",
        "colab_type": "code",
        "colab": {
          "base_uri": "https://localhost:8080/",
          "height": 510
        },
        "outputId": "c40e32ba-332d-42f6-8b9d-10af219ca28f"
      },
      "source": [
        "items[1]"
      ],
      "execution_count": 60,
      "outputs": [
        {
          "output_type": "execute_result",
          "data": {
            "text/plain": [
              "{'reasons': {'count': 0,\n",
              "  'items': [{'reasonName': 'globalInteractionReason',\n",
              "    'summary': 'This spot is popular',\n",
              "    'type': 'general'}]},\n",
              " 'referralId': 'e-5-4d4361d01928a35daba1ad70-1',\n",
              " 'venue': {'categories': [{'icon': {'prefix': 'https://ss3.4sqi.net/img/categories_v2/food/coffeeshop_',\n",
              "     'suffix': '.png'},\n",
              "    'id': '4bf58dd8d48988d1e0931735',\n",
              "    'name': 'Coffee Shop',\n",
              "    'pluralName': 'Coffee Shops',\n",
              "    'primary': True,\n",
              "    'shortName': 'Coffee Shop'}],\n",
              "  'id': '4d4361d01928a35daba1ad70',\n",
              "  'location': {'address': '17 Phan Đình Phùng',\n",
              "   'cc': 'VN',\n",
              "   'city': 'Hải Châu',\n",
              "   'country': 'Việt Nam',\n",
              "   'formattedAddress': ['17 Phan Đình Phùng',\n",
              "    'Hải Châu',\n",
              "    'Thành Phố Đà Nẵng',\n",
              "    'Việt Nam'],\n",
              "   'labeledLatLngs': [{'label': 'display',\n",
              "     'lat': 16.070069923328905,\n",
              "     'lng': 108.2234060288238}],\n",
              "   'lat': 16.070069923328905,\n",
              "   'lng': 108.2234060288238,\n",
              "   'state': 'Thành Phố Đà Nẵng'},\n",
              "  'name': 'Phố Xưa',\n",
              "  'photos': {'count': 0, 'groups': []}}}"
            ]
          },
          "metadata": {
            "tags": []
          },
          "execution_count": 60
        }
      ]
    },
    {
      "cell_type": "code",
      "metadata": {
        "id": "GcdssXVMHufJ",
        "colab_type": "code",
        "colab": {
          "base_uri": "https://localhost:8080/",
          "height": 938
        },
        "outputId": "e9d5be7f-2a8b-4ec2-83f0-9f2550c2b7d6"
      },
      "source": [
        "df_raw = []\n",
        "for item in items:\n",
        "    venue = item[\"venue\"]\n",
        "    categories, uid, name, location = venue[\"categories\"], venue[\"id\"], venue[\"name\"], venue[\"location\"]\n",
        "    print(location)\n",
        "    assert len(categories) == 1\n",
        "    shortname = categories[0][\"shortName\"]\n",
        "    address =  ''\n",
        "    if hasattr(location, 'address'):\n",
        "      address = location['address']\n",
        "    if not \"postalCode\" in location:\n",
        "        continue\n",
        "    postalcode = location[\"postalCode\"]\n",
        "    lat = location[\"lat\"]\n",
        "    lng = location[\"lng\"]\n",
        "    datarow = (uid, name, shortname, address, postalcode, lat, lng)\n",
        "    df_raw.append(datarow)\n",
        "df = pd.DataFrame(df_raw, columns=[\"uid\", \"name\", \"shortname\", \"address\", \"postalcode\", \"lat\", \"lng\"])\n",
        "print(\"found %i cafes\" % len(df))\n",
        "df.head()"
      ],
      "execution_count": 72,
      "outputs": [
        {
          "output_type": "stream",
          "text": [
            "{'address': '39', 'crossStreet': 'Nguyễn Thái Học', 'lat': 16.068062879455486, 'lng': 108.22351222071603, 'labeledLatLngs': [{'label': 'display', 'lat': 16.068062879455486, 'lng': 108.22351222071603}], 'postalCode': '551105', 'cc': 'VN', 'city': 'Đà Nẵng', 'state': 'Thành Phố Đà Nẵng', 'country': 'Việt Nam', 'formattedAddress': ['39 (Nguyễn Thái Học)', 'Đà Nẵng', 'Thành Phố Đà Nẵng', 'Việt Nam']}\n",
            "{'address': '17 Phan Đình Phùng', 'lat': 16.070069923328905, 'lng': 108.2234060288238, 'labeledLatLngs': [{'label': 'display', 'lat': 16.070069923328905, 'lng': 108.2234060288238}], 'cc': 'VN', 'city': 'Hải Châu', 'state': 'Thành Phố Đà Nẵng', 'country': 'Việt Nam', 'formattedAddress': ['17 Phan Đình Phùng', 'Hải Châu', 'Thành Phố Đà Nẵng', 'Việt Nam']}\n",
            "{'address': '37-39 Pasteur', 'lat': 16.069698707615007, 'lng': 108.21804495108044, 'labeledLatLngs': [{'label': 'display', 'lat': 16.069698707615007, 'lng': 108.21804495108044}], 'cc': 'VN', 'city': 'Đà Nẵng', 'state': 'Thành Phố Đà Nẵng', 'country': 'Việt Nam', 'formattedAddress': ['37-39 Pasteur', 'Đà Nẵng', 'Thành Phố Đà Nẵng', 'Việt Nam']}\n",
            "{'address': '96-98 Bạch Đằng', 'lat': 16.069014884488677, 'lng': 108.22497088340684, 'labeledLatLngs': [{'label': 'display', 'lat': 16.069014884488677, 'lng': 108.22497088340684}], 'cc': 'VN', 'city': 'Đà Nẵng', 'state': 'Thành Phố Đà Nẵng', 'country': 'Việt Nam', 'formattedAddress': ['96-98 Bạch Đằng', 'Đà Nẵng', 'Thành Phố Đà Nẵng', 'Việt Nam']}\n",
            "{'address': '58', 'crossStreet': 'Hoàng Văn Thụ. Hải Châu', 'lat': 16.06328567930564, 'lng': 108.22068421206521, 'labeledLatLngs': [{'label': 'display', 'lat': 16.06328567930564, 'lng': 108.22068421206521}], 'cc': 'VN', 'neighborhood': 'Hải Châu', 'city': 'Đà Nẵng', 'state': 'Thành Phố Đà Nẵng', 'country': 'Việt Nam', 'formattedAddress': ['58 (Hoàng Văn Thụ. Hải Châu)', 'Đà Nẵng', 'Thành Phố Đà Nẵng', 'Việt Nam']}\n",
            "{'address': '186 Bach Dang', 'crossStreet': 'Tran Quoc Toan', 'lat': 16.06608485359888, 'lng': 108.2243266366388, 'labeledLatLngs': [{'label': 'display', 'lat': 16.06608485359888, 'lng': 108.2243266366388}], 'cc': 'VN', 'city': 'Đà Nẵng', 'state': 'Thành Phố Đà Nẵng', 'country': 'Việt Nam', 'formattedAddress': ['186 Bach Dang (Tran Quoc Toan)', 'Đà Nẵng', 'Thành Phố Đà Nẵng', 'Việt Nam']}\n",
            "{'address': '134 Phan Chau Trinh', 'lat': 16.063847858621482, 'lng': 108.21989220791667, 'labeledLatLngs': [{'label': 'display', 'lat': 16.063847858621482, 'lng': 108.21989220791667}], 'cc': 'VN', 'city': 'Đà Nẵng', 'state': 'Thành Phố Đà Nẵng', 'country': 'Việt Nam', 'formattedAddress': ['134 Phan Chau Trinh', 'Đà Nẵng', 'Thành Phố Đà Nẵng', 'Việt Nam']}\n",
            "{'lat': 16.066373, 'lng': 108.220971, 'labeledLatLngs': [{'label': 'display', 'lat': 16.066373, 'lng': 108.220971}], 'cc': 'VN', 'country': 'Việt Nam', 'formattedAddress': ['Việt Nam']}\n",
            "{'address': '9 Quang Trung', 'crossStreet': 'Tran Phu', 'lat': 16.07534538869973, 'lng': 108.22224273760446, 'labeledLatLngs': [{'label': 'display', 'lat': 16.07534538869973, 'lng': 108.22224273760446}], 'cc': 'VN', 'city': 'Đà Nẵng', 'state': 'Thành Phố Đà Nẵng', 'country': 'Việt Nam', 'formattedAddress': ['9 Quang Trung (Tran Phu)', 'Đà Nẵng', 'Thành Phố Đà Nẵng', 'Việt Nam']}\n",
            "{'address': '146 Bach Dang St', 'lat': 16.06702, 'lng': 108.22479, 'labeledLatLngs': [{'label': 'display', 'lat': 16.06702, 'lng': 108.22479}], 'postalCode': '550000', 'cc': 'VN', 'city': 'Hải Châu 1', 'state': 'Thành Phố Đà Nẵng', 'country': 'Việt Nam', 'formattedAddress': ['146 Bach Dang St', 'Hải Châu 1', 'Thành Phố Đà Nẵng', 'Việt Nam']}\n",
            "{'address': '79 Le Hong Phong', 'lat': 16.064163367156592, 'lng': 108.21928138013452, 'labeledLatLngs': [{'label': 'display', 'lat': 16.064163367156592, 'lng': 108.21928138013452}], 'cc': 'VN', 'city': 'Đà Nẵng', 'state': 'Thành Phố Đà Nẵng', 'country': 'Việt Nam', 'formattedAddress': ['79 Le Hong Phong', 'Đà Nẵng', 'Thành Phố Đà Nẵng', 'Việt Nam']}\n",
            "{'address': 'Lô A4 - 2 Nguyễn Văn Linh', 'lat': 16.06079455709096, 'lng': 108.22346985340118, 'labeledLatLngs': [{'label': 'display', 'lat': 16.06079455709096, 'lng': 108.22346985340118}], 'cc': 'VN', 'city': 'Đà Nẵng', 'state': 'Thành Phố Đà Nẵng', 'country': 'Việt Nam', 'formattedAddress': ['Lô A4 - 2 Nguyễn Văn Linh', 'Đà Nẵng', 'Thành Phố Đà Nẵng', 'Việt Nam']}\n",
            "{'address': '180A Bach Dang Street, Hai Chau 1 Ward, Hai Chau District', 'crossStreet': 'Tran Quoc Toan', 'lat': 16.066268104610995, 'lng': 108.22449579896868, 'labeledLatLngs': [{'label': 'display', 'lat': 16.066268104610995, 'lng': 108.22449579896868}], 'postalCode': '550000', 'cc': 'VN', 'city': 'Đà Nẵng', 'state': 'Thành Phố Đà Nẵng', 'country': 'Việt Nam', 'formattedAddress': ['180A Bach Dang Street, Hai Chau 1 Ward, Hai Chau District (Tran Quoc Toan)', 'Đà Nẵng', 'Thành Phố Đà Nẵng', 'Việt Nam']}\n",
            "{'address': '1 Nguyen Van Linh', 'lat': 16.06064813996494, 'lng': 108.2169811846068, 'labeledLatLngs': [{'label': 'display', 'lat': 16.06064813996494, 'lng': 108.2169811846068}], 'cc': 'VN', 'city': 'Đà Nẵng', 'state': 'Thành Phố Đà Nẵng', 'country': 'Việt Nam', 'formattedAddress': ['1 Nguyen Van Linh', 'Đà Nẵng', 'Thành Phố Đà Nẵng', 'Việt Nam']}\n",
            "{'address': '32 Cô Giang, Phước Ninh, Hải Châu, Da Nang', 'lat': 16.06163998148517, 'lng': 108.22152256965637, 'labeledLatLngs': [{'label': 'display', 'lat': 16.06163998148517, 'lng': 108.22152256965637}], 'cc': 'VN', 'state': 'Thành Phố Đà Nẵng', 'country': 'Việt Nam', 'formattedAddress': ['32 Cô Giang, Phước Ninh, Hải Châu, Da Nang', 'Thành Phố Đà Nẵng', 'Việt Nam']}\n",
            "{'address': '101 Trrần Phú', 'lat': 16.06909601096204, 'lng': 108.22396568330407, 'labeledLatLngs': [{'label': 'display', 'lat': 16.06909601096204, 'lng': 108.22396568330407}], 'cc': 'VN', 'city': 'Đà Nẵng', 'state': 'Thành Phố Đà Nẵng', 'country': 'Việt Nam', 'formattedAddress': ['101 Trrần Phú', 'Đà Nẵng', 'Thành Phố Đà Nẵng', 'Việt Nam']}\n",
            "{'address': 'Le Loi', 'crossStreet': 'Le Loi', 'lat': 16.072559472418, 'lng': 108.22037004752178, 'labeledLatLngs': [{'label': 'display', 'lat': 16.072559472418, 'lng': 108.22037004752178}], 'cc': 'VN', 'country': 'Việt Nam', 'formattedAddress': ['Le Loi (Le Loi)', 'Việt Nam']}\n",
            "{'address': 'Lê Đình Dương, Hải Châu, Da Nang', 'lat': 16.061322248017326, 'lng': 108.21981112190863, 'labeledLatLngs': [{'label': 'display', 'lat': 16.061322248017326, 'lng': 108.21981112190863}], 'cc': 'VN', 'city': 'Đà Nẵng', 'state': 'Thành Phố Đà Nẵng', 'country': 'Việt Nam', 'formattedAddress': ['Lê Đình Dương, Hải Châu, Da Nang', 'Đà Nẵng', 'Thành Phố Đà Nẵng', 'Việt Nam']}\n",
            "{'address': '88', 'crossStreet': 'Nguyễn Chí Thanh', 'lat': 16.07085130717108, 'lng': 108.22122981692984, 'labeledLatLngs': [{'label': 'display', 'lat': 16.07085130717108, 'lng': 108.22122981692984}], 'postalCode': '550000', 'cc': 'VN', 'city': 'Đà Nẵng', 'state': 'Thành Phố Đà Nẵng', 'country': 'Việt Nam', 'formattedAddress': ['88 (Nguyễn Chí Thanh)', 'Đà Nẵng', 'Thành Phố Đà Nẵng', 'Việt Nam']}\n",
            "{'address': '74 Bach Dang', 'crossStreet': 'Phan Dinh Phung', 'lat': 16.0699462321021, 'lng': 108.22496141517442, 'labeledLatLngs': [{'label': 'display', 'lat': 16.0699462321021, 'lng': 108.22496141517442}], 'postalCode': '60999', 'cc': 'VN', 'city': 'Dà Nang City', 'state': 'Da Nang', 'country': 'Việt Nam', 'formattedAddress': ['74 Bach Dang (Phan Dinh Phung)', 'Dà Nang City', 'Da Nang', 'Việt Nam']}\n",
            "{'address': '50 Bạch Đằng', 'lat': 16.073066369057457, 'lng': 108.22466120300325, 'labeledLatLngs': [{'label': 'display', 'lat': 16.073066369057457, 'lng': 108.22466120300325}], 'cc': 'VN', 'city': 'Đà Nẵng', 'state': 'Thành Phố Đà Nẵng', 'country': 'Việt Nam', 'formattedAddress': ['50 Bạch Đằng', 'Đà Nẵng', 'Thành Phố Đà Nẵng', 'Việt Nam']}\n",
            "{'address': 'Ông Ích Khiêm', 'crossStreet': 'Hung Vuong', 'lat': 16.066948386992838, 'lng': 108.21408197991173, 'labeledLatLngs': [{'label': 'display', 'lat': 16.066948386992838, 'lng': 108.21408197991173}], 'cc': 'VN', 'city': 'Dà Nang', 'state': 'Da Nang', 'country': 'Việt Nam', 'formattedAddress': ['Ông Ích Khiêm (Hung Vuong)', 'Dà Nang', 'Da Nang', 'Việt Nam']}\n",
            "{'address': 'Quang Trung', 'lat': 16.07486200847801, 'lng': 108.22006134589006, 'labeledLatLngs': [{'label': 'display', 'lat': 16.07486200847801, 'lng': 108.22006134589006}], 'cc': 'VN', 'state': 'Da Nang', 'country': 'Việt Nam', 'formattedAddress': ['Quang Trung', 'Da Nang', 'Việt Nam']}\n",
            "{'lat': 16.068096, 'lng': 108.222755, 'labeledLatLngs': [{'label': 'display', 'lat': 16.068096, 'lng': 108.222755}], 'cc': 'VN', 'city': 'Hải Châu 1', 'state': 'Thành Phố Đà Nẵng', 'country': 'Việt Nam', 'formattedAddress': ['Hải Châu 1', 'Thành Phố Đà Nẵng', 'Việt Nam']}\n",
            "{'address': '27 Tran Quoc Toan', 'lat': 16.066176343719146, 'lng': 108.22300314903259, 'labeledLatLngs': [{'label': 'display', 'lat': 16.066176343719146, 'lng': 108.22300314903259}], 'cc': 'VN', 'city': 'Đà Nẵng', 'state': 'Thành Phố Đà Nẵng', 'country': 'Việt Nam', 'formattedAddress': ['27 Tran Quoc Toan', 'Đà Nẵng', 'Thành Phố Đà Nẵng', 'Việt Nam']}\n",
            "{'address': '102 Bạch Đằng, Thạch Thang, Hải Châu, Da Nang', 'lat': 16.068962391291606, 'lng': 108.2249717078671, 'labeledLatLngs': [{'label': 'display', 'lat': 16.068962391291606, 'lng': 108.2249717078671}], 'cc': 'VN', 'state': 'Da Nang', 'country': 'Việt Nam', 'formattedAddress': ['102 Bạch Đằng, Thạch Thang, Hải Châu, Da Nang', 'Da Nang', 'Việt Nam']}\n",
            "{'address': '91', 'crossStreet': 'Lê Hồng Phong', 'lat': 16.064031894461532, 'lng': 108.21869015693665, 'labeledLatLngs': [{'label': 'display', 'lat': 16.064031894461532, 'lng': 108.21869015693665}], 'postalCode': '0511', 'cc': 'VN', 'city': 'Đà Nẵng', 'state': 'Thành Phố Đà Nẵng', 'country': 'Việt Nam', 'formattedAddress': ['91 (Lê Hồng Phong)', 'Đà Nẵng', 'Thành Phố Đà Nẵng', 'Việt Nam']}\n",
            "{'address': '80A Nguyễn Chí Thanh', 'lat': 16.0725, 'lng': 108.2208, 'labeledLatLngs': [{'label': 'display', 'lat': 16.0725, 'lng': 108.2208}], 'cc': 'VN', 'city': 'Đà Nẵng', 'state': 'Thành Phố Đà Nẵng', 'country': 'Việt Nam', 'formattedAddress': ['80A Nguyễn Chí Thanh', 'Đà Nẵng', 'Thành Phố Đà Nẵng', 'Việt Nam']}\n",
            "{'address': 'Le Hong Phong - Da Nang', 'lat': 16.06367059719038, 'lng': 108.22347738827133, 'labeledLatLngs': [{'label': 'display', 'lat': 16.06367059719038, 'lng': 108.22347738827133}], 'cc': 'VN', 'country': 'Việt Nam', 'formattedAddress': ['Le Hong Phong - Da Nang', 'Việt Nam']}\n",
            "{'address': '223 Trần Phú, phường Phước Ninh, quận Hải Châu', 'lat': 16.063622075206023, 'lng': 108.22350606322289, 'labeledLatLngs': [{'label': 'display', 'lat': 16.063622075206023, 'lng': 108.22350606322289}], 'cc': 'VN', 'city': 'Đà Nẵng', 'state': 'Thành Phố Đà Nẵng', 'country': 'Việt Nam', 'formattedAddress': ['223 Trần Phú, phường Phước Ninh, quận Hải Châu', 'Đà Nẵng', 'Thành Phố Đà Nẵng', 'Việt Nam']}\n",
            "{'address': 'Bach Dang', 'crossStreet': 'under Han River Bridge', 'lat': 16.072871723022736, 'lng': 108.2251196519525, 'labeledLatLngs': [{'label': 'display', 'lat': 16.072871723022736, 'lng': 108.2251196519525}], 'cc': 'VN', 'city': 'Đà Nẵng', 'state': 'Thành Phố Đà Nẵng', 'country': 'Việt Nam', 'formattedAddress': ['Bach Dang (under Han River Bridge)', 'Đà Nẵng', 'Thành Phố Đà Nẵng', 'Việt Nam']}\n",
            "{'address': '143 Le Loi', 'lat': 16.073552306534197, 'lng': 108.219980167977, 'labeledLatLngs': [{'label': 'display', 'lat': 16.073552306534197, 'lng': 108.219980167977}], 'cc': 'VN', 'country': 'Việt Nam', 'formattedAddress': ['143 Le Loi', 'Việt Nam']}\n",
            "{'address': '156 Le Dinh Duong', 'crossStreet': 'Trieu Nu Vuong', 'lat': 16.062463396498668, 'lng': 108.21678225824697, 'labeledLatLngs': [{'label': 'display', 'lat': 16.062463396498668, 'lng': 108.21678225824697}], 'cc': 'VN', 'city': 'Đà Nẵng', 'state': 'Thành Phố Đà Nẵng', 'country': 'Việt Nam', 'formattedAddress': ['156 Le Dinh Duong (Trieu Nu Vuong)', 'Đà Nẵng', 'Thành Phố Đà Nẵng', 'Việt Nam']}\n",
            "{'lat': 16.060794905109915, 'lng': 108.22040768373152, 'labeledLatLngs': [{'label': 'display', 'lat': 16.060794905109915, 'lng': 108.22040768373152}], 'cc': 'VN', 'country': 'Việt Nam', 'formattedAddress': ['Việt Nam']}\n",
            "{'address': '59-61 Nguyen Van Linh, Hai Chau', 'lat': 16.06065, 'lng': 108.22036, 'labeledLatLngs': [{'label': 'display', 'lat': 16.06065, 'lng': 108.22036}], 'cc': 'VN', 'city': 'Bình Hiên', 'state': 'Thành Phố Đà Nẵng', 'country': 'Việt Nam', 'formattedAddress': ['59-61 Nguyen Van Linh, Hai Chau', 'Bình Hiên', 'Thành Phố Đà Nẵng', 'Việt Nam']}\n",
            "{'address': '04 Quang Trung', 'lat': 16.075100872070294, 'lng': 108.22139809463792, 'labeledLatLngs': [{'label': 'display', 'lat': 16.075100872070294, 'lng': 108.22139809463792}], 'cc': 'VN', 'city': 'Đà Nẵng', 'state': 'Thành Phố Đà Nẵng', 'country': 'Việt Nam', 'formattedAddress': ['04 Quang Trung', 'Đà Nẵng', 'Thành Phố Đà Nẵng', 'Việt Nam']}\n",
            "{'lat': 16.07550910076423, 'lng': 108.21971266035493, 'labeledLatLngs': [{'label': 'display', 'lat': 16.07550910076423, 'lng': 108.21971266035493}], 'cc': 'VN', 'country': 'Việt Nam', 'formattedAddress': ['Việt Nam']}\n",
            "{'address': 'Nguyễn Văn Linh', 'lat': 16.060564393091386, 'lng': 108.2170831688409, 'labeledLatLngs': [{'label': 'display', 'lat': 16.060564393091386, 'lng': 108.2170831688409}], 'cc': 'VN', 'city': 'Đà Nẵng', 'state': 'Thành Phố Đà Nẵng', 'country': 'Việt Nam', 'formattedAddress': ['Nguyễn Văn Linh', 'Đà Nẵng', 'Thành Phố Đà Nẵng', 'Việt Nam']}\n",
            "{'lat': 16.06051, 'lng': 108.21709, 'labeledLatLngs': [{'label': 'display', 'lat': 16.06051, 'lng': 108.21709}], 'cc': 'VN', 'country': 'Việt Nam', 'formattedAddress': ['Việt Nam']}\n",
            "{'address': '69 Nguyễn Chí Thanh', 'lat': 16.07616714656448, 'lng': 108.22046560241405, 'labeledLatLngs': [{'label': 'display', 'lat': 16.07616714656448, 'lng': 108.22046560241405}], 'cc': 'VN', 'city': 'Đà Nẵng', 'state': 'Thành Phố Đà Nẵng', 'country': 'Việt Nam', 'formattedAddress': ['69 Nguyễn Chí Thanh', 'Đà Nẵng', 'Thành Phố Đà Nẵng', 'Việt Nam']}\n",
            "{'address': '339 Tran Hung Dao', 'lat': 16.071583, 'lng': 108.229077, 'labeledLatLngs': [{'label': 'display', 'lat': 16.071583, 'lng': 108.229077}], 'cc': 'VN', 'city': 'Đà Nẵng', 'state': 'Thành Phố Đà Nẵng', 'country': 'Việt Nam', 'formattedAddress': ['339 Tran Hung Dao', 'Đà Nẵng', 'Thành Phố Đà Nẵng', 'Việt Nam']}\n",
            "found 6 cafes\n"
          ],
          "name": "stdout"
        },
        {
          "output_type": "execute_result",
          "data": {
            "text/html": [
              "<div>\n",
              "<style scoped>\n",
              "    .dataframe tbody tr th:only-of-type {\n",
              "        vertical-align: middle;\n",
              "    }\n",
              "\n",
              "    .dataframe tbody tr th {\n",
              "        vertical-align: top;\n",
              "    }\n",
              "\n",
              "    .dataframe thead th {\n",
              "        text-align: right;\n",
              "    }\n",
              "</style>\n",
              "<table border=\"1\" class=\"dataframe\">\n",
              "  <thead>\n",
              "    <tr style=\"text-align: right;\">\n",
              "      <th></th>\n",
              "      <th>uid</th>\n",
              "      <th>name</th>\n",
              "      <th>shortname</th>\n",
              "      <th>address</th>\n",
              "      <th>postalcode</th>\n",
              "      <th>lat</th>\n",
              "      <th>lng</th>\n",
              "    </tr>\n",
              "  </thead>\n",
              "  <tbody>\n",
              "    <tr>\n",
              "      <th>0</th>\n",
              "      <td>5a26a41a31ac6c676705e94c</td>\n",
              "      <td>cộng cà phê</td>\n",
              "      <td>Coffee Shop</td>\n",
              "      <td></td>\n",
              "      <td>551105</td>\n",
              "      <td>16.068063</td>\n",
              "      <td>108.223512</td>\n",
              "    </tr>\n",
              "    <tr>\n",
              "      <th>1</th>\n",
              "      <td>5627c637498e21ca8f40f4be</td>\n",
              "      <td>Leaf Drinks and More</td>\n",
              "      <td>Coffee Shop</td>\n",
              "      <td></td>\n",
              "      <td>550000</td>\n",
              "      <td>16.067020</td>\n",
              "      <td>108.224790</td>\n",
              "    </tr>\n",
              "    <tr>\n",
              "      <th>2</th>\n",
              "      <td>55ff7cf0498e203b2932d5fd</td>\n",
              "      <td>Namunamu Cafe 180</td>\n",
              "      <td>Café</td>\n",
              "      <td></td>\n",
              "      <td>550000</td>\n",
              "      <td>16.066268</td>\n",
              "      <td>108.224496</td>\n",
              "    </tr>\n",
              "    <tr>\n",
              "      <th>3</th>\n",
              "      <td>51bd1671498e58791c2ea92d</td>\n",
              "      <td>Freeman Coffee</td>\n",
              "      <td>Coffee Shop</td>\n",
              "      <td></td>\n",
              "      <td>550000</td>\n",
              "      <td>16.070851</td>\n",
              "      <td>108.221230</td>\n",
              "    </tr>\n",
              "    <tr>\n",
              "      <th>4</th>\n",
              "      <td>4c25fdd8f1272d7f33ac85c5</td>\n",
              "      <td>Highlands Coffee</td>\n",
              "      <td>Café</td>\n",
              "      <td></td>\n",
              "      <td>60999</td>\n",
              "      <td>16.069946</td>\n",
              "      <td>108.224961</td>\n",
              "    </tr>\n",
              "  </tbody>\n",
              "</table>\n",
              "</div>"
            ],
            "text/plain": [
              "                        uid                  name  ...        lat         lng\n",
              "0  5a26a41a31ac6c676705e94c           cộng cà phê  ...  16.068063  108.223512\n",
              "1  5627c637498e21ca8f40f4be  Leaf Drinks and More  ...  16.067020  108.224790\n",
              "2  55ff7cf0498e203b2932d5fd     Namunamu Cafe 180  ...  16.066268  108.224496\n",
              "3  51bd1671498e58791c2ea92d        Freeman Coffee  ...  16.070851  108.221230\n",
              "4  4c25fdd8f1272d7f33ac85c5      Highlands Coffee  ...  16.069946  108.224961\n",
              "\n",
              "[5 rows x 7 columns]"
            ]
          },
          "metadata": {
            "tags": []
          },
          "execution_count": 72
        }
      ]
    },
    {
      "cell_type": "markdown",
      "metadata": {
        "id": "2CzmXBbAMX0T",
        "colab_type": "text"
      },
      "source": [
        "As we can see that there are many coffee shops without address we need to execute hasattr() to determine if each object (coffeeshop) has a contribute\n",
        "(address)\n"
      ]
    },
    {
      "cell_type": "code",
      "metadata": {
        "id": "8oRHLq5CMc1P",
        "colab_type": "code",
        "colab": {
          "base_uri": "https://localhost:8080/",
          "height": 34
        },
        "outputId": "8acfdc37-7a9d-426c-ff85-b03678dc2fba"
      },
      "source": [
        "DaNang_center = d[\"geocode\"][\"center\"]\n",
        "DaNang_center"
      ],
      "execution_count": 74,
      "outputs": [
        {
          "output_type": "execute_result",
          "data": {
            "text/plain": [
              "{'lat': 16.06778, 'lng': 108.22083}"
            ]
          },
          "metadata": {
            "tags": []
          },
          "execution_count": 74
        }
      ]
    },
    {
      "cell_type": "code",
      "metadata": {
        "id": "QrPLTCLUM0CW",
        "colab_type": "code",
        "colab": {
          "base_uri": "https://localhost:8080/",
          "height": 808
        },
        "outputId": "52ec1bae-55b8-4375-c674-221261033d05"
      },
      "source": [
        "from folium import plugins\n",
        "\n",
        "# create map of Helsinki using latitude and longitude values\n",
        "map_DaNang = folium.Map(location=[16.06778, 108.22083], zoom_start=14)\n",
        "\n",
        "def add_markers(df):\n",
        "    for (j, row) in df.iterrows():\n",
        "        label = folium.Popup(row[\"name\"], parse_html=True)\n",
        "        folium.CircleMarker(\n",
        "            [row[\"lat\"], row[\"lng\"]],\n",
        "            radius=5,\n",
        "            popup=label,\n",
        "            color='red',\n",
        "            fill=True,\n",
        "            fill_color='#3186cc',\n",
        "            fill_opacity=0.7,\n",
        "            parse_html=False).add_to(map_DaNang)\n",
        "\n",
        "add_markers(df)\n",
        "hm_data = df[[\"lat\", \"lng\"]].to_numpy().tolist()\n",
        "map_DaNang.add_child(plugins.HeatMap(hm_data))\n",
        "\n",
        "map_DaNang"
      ],
      "execution_count": 77,
      "outputs": [
        {
          "output_type": "execute_result",
          "data": {
            "text/html": [
              "<div style=\"width:100%;\"><div style=\"position:relative;width:100%;height:0;padding-bottom:60%;\"><span style=\"color:#565656\">Make this Notebook Trusted to load map: File -> Trust Notebook</span><iframe src=\"about:blank\" style=\"position:absolute;width:100%;height:100%;left:0;top:0;border:none !important;\" data-html=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 onload=\"this.contentDocument.open();this.contentDocument.write(atob(this.getAttribute('data-html')));this.contentDocument.close();\" allowfullscreen webkitallowfullscreen mozallowfullscreen></iframe></div></div>"
            ],
            "text/plain": [
              "<folium.folium.Map at 0x7f0a4dc5b240>"
            ]
          },
          "metadata": {
            "tags": []
          },
          "execution_count": 77
        }
      ]
    },
    {
      "cell_type": "code",
      "metadata": {
        "id": "HQdLkDEoOx8Z",
        "colab_type": "code",
        "colab": {
          "base_uri": "https://localhost:8080/",
          "height": 808
        },
        "outputId": "a0af0b0b-f175-4770-ec2c-c805680d0982"
      },
      "source": [
        "lat = 16.06778\n",
        "lng = 108.22083\n",
        "map_DaNang = folium.Map(location=[lat, lng], zoom_start=17)\n",
        "add_markers(df)\n",
        "folium.CircleMarker(\n",
        "    [lat, lng],\n",
        "    radius=15,\n",
        "    popup=\"O Day Roi!\",\n",
        "    color='green',\n",
        "    fill=True,\n",
        "    fill_color='#3186cc',\n",
        "    fill_opacity=0.7,\n",
        "    parse_html=False).add_to(map_DaNang)\n",
        "map_DaNang"
      ],
      "execution_count": 79,
      "outputs": [
        {
          "output_type": "execute_result",
          "data": {
            "text/html": [
              "<div style=\"width:100%;\"><div style=\"position:relative;width:100%;height:0;padding-bottom:60%;\"><span style=\"color:#565656\">Make this Notebook Trusted to load map: File -> Trust Notebook</span><iframe src=\"about:blank\" style=\"position:absolute;width:100%;height:100%;left:0;top:0;border:none !important;\" data-html=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 onload=\"this.contentDocument.open();this.contentDocument.write(atob(this.getAttribute('data-html')));this.contentDocument.close();\" allowfullscreen webkitallowfullscreen mozallowfullscreen></iframe></div></div>"
            ],
            "text/plain": [
              "<folium.folium.Map at 0x7f0a4dbffd30>"
            ]
          },
          "metadata": {
            "tags": []
          },
          "execution_count": 79
        }
      ]
    },
    {
      "cell_type": "code",
      "metadata": {
        "id": "lqVWF0CtPesR",
        "colab_type": "code",
        "colab": {}
      },
      "source": [
        ""
      ],
      "execution_count": 0,
      "outputs": []
    }
  ]
}